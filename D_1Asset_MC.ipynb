{
 "cells": [
  {
   "cell_type": "code",
   "execution_count": null,
   "id": "e5f836c6",
   "metadata": {
    "vscode": {
     "languageId": "plaintext"
    }
   },
   "outputs": [],
   "source": [
    "import numpy as np\n",
    "\n",
    "def thomas(alpha, beta, gamma, f):\n",
    "    \"\"\"\n",
    "    alpha: 하위 대각 원소 (길이 n)\n",
    "    beta : 주대각 원소   (길이 n)\n",
    "    gamma: 상위 대각 원소 (길이 n)\n",
    "    f    : 우변 벡터    (길이 n)\n",
    "    \"\"\"\n",
    "    n = len(f)\n",
    "    v = np.zeros(n, dtype=float)\n",
    "\n",
    "    # Forward Elimination\n",
    "    for i in range(1, n):\n",
    "        mult = alpha[i] / beta[i - 1]\n",
    "        beta[i] = beta[i] - mult * gamma[i - 1]\n",
    "        f[i] = f[i] - mult * f[i - 1]\n",
    "\n",
    "    # Back Substitution\n",
    "    v[n - 1] = f[n - 1] / beta[n - 1]\n",
    "    for i in range(n - 2, -1, -1):\n",
    "        v[i] = (f[i] - gamma[i] * v[i + 1]) / beta[i]\n",
    "\n",
    "    return v\n"
   ]
  }
 ],
 "metadata": {
  "language_info": {
   "name": "python"
  }
 },
 "nbformat": 4,
 "nbformat_minor": 5
}
